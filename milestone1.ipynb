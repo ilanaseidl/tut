{
 "cells": [
  {
   "cell_type": "markdown",
   "metadata": {},
   "source": [
    "https://github.com/ilanaseidl/ilanaseidl.github.io/"
   ]
  },
  {
   "cell_type": "markdown",
   "metadata": {},
   "source": [
    "For this project, I will be focusing on the relationship between women and finance. Hopefully, I will be able to uncover some necessary information in order to make a change between the way women feel towards money, investing, and empowerment. I am looking to gain insight on the gender wage gap, key differences in financial literacy based on gender, and learn more about specific financial topics such as stock market investing and FinTech awareness-- and come to a conclusion about their connection to gender."
   ]
  },
  {
   "cell_type": "code",
   "execution_count": 14,
   "metadata": {},
   "outputs": [],
   "source": [
    "import pandas as pd\n",
    "data = pd.read_csv(\"participation-of-women-in-purchase-decisions.csv\")\n",
    "data1 = pd.read_csv(\"womens-weekly-earnings-as-a-percentage-of-mens-by-age-bureau-of-labor-statistics-2017.csv\")\n",
    "data2 = pd.read_csv(\"gender-gap-in-average-wages-ilo.csv\")"
   ]
  },
  {
   "cell_type": "code",
   "execution_count": null,
   "metadata": {},
   "outputs": [],
   "source": []
  }
 ],
 "metadata": {
  "kernelspec": {
   "display_name": "Python 3",
   "language": "python",
   "name": "python3"
  },
  "language_info": {
   "codemirror_mode": {
    "name": "ipython",
    "version": 3
   },
   "file_extension": ".py",
   "mimetype": "text/x-python",
   "name": "python",
   "nbconvert_exporter": "python",
   "pygments_lexer": "ipython3",
   "version": "3.7.3"
  }
 },
 "nbformat": 4,
 "nbformat_minor": 2
}
